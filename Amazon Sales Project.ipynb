{
 "cells": [
  {
   "cell_type": "code",
   "execution_count": 8,
   "id": "40ea2516",
   "metadata": {},
   "outputs": [],
   "source": [
    "import pandas as pd\n",
    "import numpy as np\n",
    "import matplotlib.pyplot as plt\n",
    "import seaborn as sns"
   ]
  },
  {
   "cell_type": "markdown",
   "id": "6c48013f",
   "metadata": {},
   "source": [
    "# Amazon Sales Data Project"
   ]
  },
  {
   "cell_type": "markdown",
   "id": "a73e2637",
   "metadata": {},
   "source": [
    "## Exploring Data"
   ]
  },
  {
   "cell_type": "markdown",
   "id": "6029bb82",
   "metadata": {},
   "source": [
    "### 1.Load the data set as excel file"
   ]
  },
  {
   "cell_type": "code",
   "execution_count": 9,
   "id": "18091d9c",
   "metadata": {},
   "outputs": [],
   "source": [
    "sales_data = pd.read_excel(\"sales_data.xlsx\")"
   ]
  },
  {
   "cell_type": "markdown",
   "id": "e30c45d0",
   "metadata": {},
   "source": [
    "### 2.Convert it into Data Frame and get summary about the data and its types with statistics describtion"
   ]
  },
  {
   "cell_type": "code",
   "execution_count": 10,
   "id": "02fddd30",
   "metadata": {},
   "outputs": [
    {
     "name": "stdout",
     "output_type": "stream",
     "text": [
      "<class 'pandas.core.frame.DataFrame'>\n",
      "RangeIndex: 128975 entries, 0 to 128974\n",
      "Data columns (total 23 columns):\n",
      " #   Column              Non-Null Count   Dtype  \n",
      "---  ------              --------------   -----  \n",
      " 0   index               128975 non-null  int64  \n",
      " 1   Order ID            128975 non-null  object \n",
      " 2   Date                128975 non-null  object \n",
      " 3   Status              128975 non-null  object \n",
      " 4   Fulfilment          128975 non-null  object \n",
      " 5   Sales Channel       128975 non-null  object \n",
      " 6   ship-service-level  128975 non-null  object \n",
      " 7   Style               128975 non-null  object \n",
      " 8   SKU                 128975 non-null  object \n",
      " 9   Category            128975 non-null  object \n",
      " 10  Size                128975 non-null  object \n",
      " 11  ASIN                128975 non-null  object \n",
      " 12  Courier Status      122103 non-null  object \n",
      " 13  Qty                 128975 non-null  int64  \n",
      " 14  currency            121180 non-null  object \n",
      " 15  Amount              121180 non-null  float64\n",
      " 16  ship-city           128942 non-null  object \n",
      " 17  ship-state          128935 non-null  object \n",
      " 18  ship-postal-code    128935 non-null  float64\n",
      " 19  ship-country        128935 non-null  object \n",
      " 20  promotion-ids       79815 non-null   object \n",
      " 21  B2B                 128968 non-null  float64\n",
      " 22  fulfilled-by        39276 non-null   object \n",
      "dtypes: float64(3), int64(2), object(18)\n",
      "memory usage: 22.6+ MB\n",
      "None\n",
      "               index            Qty         Amount  ship-postal-code  \\\n",
      "count  128975.000000  128975.000000  121180.000000     128935.000000   \n",
      "mean    64487.000000       0.904431     648.561465     463963.108256   \n",
      "std     37232.019822       0.313354     281.211687     191475.865632   \n",
      "min         0.000000       0.000000       0.000000     110001.000000   \n",
      "25%     32243.500000       1.000000     449.000000     382421.000000   \n",
      "50%     64487.000000       1.000000     605.000000     500033.000000   \n",
      "75%     96730.500000       1.000000     788.000000     600024.000000   \n",
      "max    128974.000000      15.000000    5584.000000     989898.000000   \n",
      "\n",
      "                 B2B  \n",
      "count  128968.000000  \n",
      "mean        0.006754  \n",
      "std         0.081903  \n",
      "min         0.000000  \n",
      "25%         0.000000  \n",
      "50%         0.000000  \n",
      "75%         0.000000  \n",
      "max         1.000000  \n"
     ]
    }
   ],
   "source": [
    "sales_data = pd.DataFrame(sales_data)\n",
    "print(sales_data.info())\n",
    "print(sales_data.describe())"
   ]
  },
  {
   "cell_type": "markdown",
   "id": "73105fea",
   "metadata": {},
   "source": [
    "### 3.Get column names and investigate the first few rows"
   ]
  },
  {
   "cell_type": "code",
   "execution_count": 11,
   "id": "64adfe5f",
   "metadata": {},
   "outputs": [
    {
     "name": "stdout",
     "output_type": "stream",
     "text": [
      "Index(['index', 'Order ID', 'Date', 'Status', 'Fulfilment', 'Sales Channel ',\n",
      "       'ship-service-level', 'Style', 'SKU', 'Category', 'Size', 'ASIN',\n",
      "       'Courier Status', 'Qty', 'currency', 'Amount', 'ship-city',\n",
      "       'ship-state', 'ship-postal-code', 'ship-country', 'promotion-ids',\n",
      "       'B2B', 'fulfilled-by'],\n",
      "      dtype='object')\n"
     ]
    }
   ],
   "source": [
    "print(sales_data.columns)"
   ]
  },
  {
   "cell_type": "code",
   "execution_count": 12,
   "id": "a501b51c",
   "metadata": {},
   "outputs": [
    {
     "name": "stdout",
     "output_type": "stream",
     "text": [
      "   index             Order ID      Date                        Status  \\\n",
      "0      0  405-8078784-5731545  04-30-22                     Cancelled   \n",
      "1      1  171-9198151-1101146  04-30-22  Shipped - Delivered to Buyer   \n",
      "2      2  404-0687676-7273146  04-30-22                       Shipped   \n",
      "3      3  403-9615377-8133951  04-30-22                     Cancelled   \n",
      "4      4  407-1069790-7240320  04-30-22                       Shipped   \n",
      "\n",
      "  Fulfilment Sales Channel  ship-service-level    Style              SKU  \\\n",
      "0   Merchant      Amazon.in           Standard   SET389   SET389-KR-NP-S   \n",
      "1   Merchant      Amazon.in           Standard  JNE3781  JNE3781-KR-XXXL   \n",
      "2     Amazon      Amazon.in          Expedited  JNE3371    JNE3371-KR-XL   \n",
      "3   Merchant      Amazon.in           Standard    J0341       J0341-DR-L   \n",
      "4     Amazon      Amazon.in          Expedited  JNE3671  JNE3671-TU-XXXL   \n",
      "\n",
      "  Category  ... Qty currency  Amount    ship-city   ship-state  \\\n",
      "0      Set  ...   0      INR  647.62       MUMBAI  MAHARASHTRA   \n",
      "1   Blouse  ...   1      INR  406.00    BENGALURU    KARNATAKA   \n",
      "2   Blouse  ...   1      INR  329.00  NAVI MUMBAI  MAHARASHTRA   \n",
      "3    Dress  ...   0      INR  753.33   PUDUCHERRY   PUDUCHERRY   \n",
      "4      Top  ...   1      INR  574.00      CHENNAI   TAMIL NADU   \n",
      "\n",
      "   ship-postal-code ship-country  \\\n",
      "0          400081.0           IN   \n",
      "1          560085.0           IN   \n",
      "2          410210.0           IN   \n",
      "3          605008.0           IN   \n",
      "4          600073.0           IN   \n",
      "\n",
      "                                       promotion-ids  B2B fulfilled-by  \n",
      "0                                                NaN  0.0    Easy Ship  \n",
      "1  Amazon PLCC Free-Financing Universal Merchant ...  0.0    Easy Ship  \n",
      "2       IN Core Free Shipping 2015/04/08 23-48-5-108  1.0          NaN  \n",
      "3                                                NaN  0.0    Easy Ship  \n",
      "4                                                NaN  0.0          NaN  \n",
      "\n",
      "[5 rows x 23 columns]\n"
     ]
    }
   ],
   "source": [
    "print(sales_data.head(5))"
   ]
  },
  {
   "cell_type": "markdown",
   "id": "109407da",
   "metadata": {},
   "source": [
    "## Cleaning Data"
   ]
  },
  {
   "cell_type": "markdown",
   "id": "10c3d823",
   "metadata": {},
   "source": [
    "### 1. Checking missing Values"
   ]
  },
  {
   "cell_type": "code",
   "execution_count": 13,
   "id": "ba8926d9",
   "metadata": {},
   "outputs": [
    {
     "name": "stdout",
     "output_type": "stream",
     "text": [
      "index                     0\n",
      "Order ID                  0\n",
      "Date                      0\n",
      "Status                    0\n",
      "Fulfilment                0\n",
      "Sales Channel             0\n",
      "ship-service-level        0\n",
      "Style                     0\n",
      "SKU                       0\n",
      "Category                  0\n",
      "Size                      0\n",
      "ASIN                      0\n",
      "Courier Status         6872\n",
      "Qty                       0\n",
      "currency               7795\n",
      "Amount                 7795\n",
      "ship-city                33\n",
      "ship-state               40\n",
      "ship-postal-code         40\n",
      "ship-country             40\n",
      "promotion-ids         49160\n",
      "B2B                       7\n",
      "fulfilled-by          89699\n",
      "dtype: int64\n"
     ]
    }
   ],
   "source": [
    "print(sales_data.isnull().sum())"
   ]
  },
  {
   "cell_type": "markdown",
   "id": "8d03f6dc",
   "metadata": {},
   "source": [
    "### Heatmap for missing values"
   ]
  },
  {
   "cell_type": "code",
   "execution_count": 22,
   "id": "5470f50a",
   "metadata": {},
   "outputs": [
    {
     "data": {
      "image/png": "[encoded data removed]",
      "text/plain": [
       "<Figure size 720x432 with 1 Axes>"
      ]
     },
     "metadata": {
      "needs_background": "light"
     },
     "output_type": "display_data"
    }
   ],
   "source": [
    "plt.figure(figsize=(10, 6))\n",
    "sns.heatmap(sales_data.isnull(), cbar=False, cmap='YlGnBu', yticklabels=False)\n",
    "plt.title('Heatmap of Missing Values')\n",
    "plt.show()"
   ]
  },
  {
   "cell_type": "markdown",
   "id": "5dab7923",
   "metadata": {},
   "source": [
    "#### we found that a lot of dataset has null values. we can't drop the rows of missing values. we will drop rows only that will have null value in amount as it is very important feature."
   ]
  },
  {
   "cell_type": "code",
   "execution_count": 14,
   "id": "393a060a",
   "metadata": {},
   "outputs": [],
   "source": [
    "sales_data_cleaned = sales_data.dropna(subset = ['Amount'])"
   ]
  },
  {
   "cell_type": "code",
   "execution_count": 15,
   "id": "5217ab51",
   "metadata": {},
   "outputs": [
    {
     "name": "stdout",
     "output_type": "stream",
     "text": [
      "<class 'pandas.core.frame.DataFrame'>\n",
      "Int64Index: 121180 entries, 0 to 128974\n",
      "Data columns (total 23 columns):\n",
      " #   Column              Non-Null Count   Dtype  \n",
      "---  ------              --------------   -----  \n",
      " 0   index               121180 non-null  int64  \n",
      " 1   Order ID            121180 non-null  object \n",
      " 2   Date                121180 non-null  object \n",
      " 3   Status              121180 non-null  object \n",
      " 4   Fulfilment          121180 non-null  object \n",
      " 5   Sales Channel       121180 non-null  object \n",
      " 6   ship-service-level  121180 non-null  object \n",
      " 7   Style               121180 non-null  object \n",
      " 8   SKU                 121180 non-null  object \n",
      " 9   Category            121180 non-null  object \n",
      " 10  Size                121180 non-null  object \n",
      " 11  ASIN                121180 non-null  object \n",
      " 12  Courier Status      116044 non-null  object \n",
      " 13  Qty                 121180 non-null  int64  \n",
      " 14  currency            121180 non-null  object \n",
      " 15  Amount              121180 non-null  float64\n",
      " 16  ship-city           121149 non-null  object \n",
      " 17  ship-state          121142 non-null  object \n",
      " 18  ship-postal-code    121142 non-null  float64\n",
      " 19  ship-country        121142 non-null  object \n",
      " 20  promotion-ids       79475 non-null   object \n",
      " 21  B2B                 121173 non-null  float64\n",
      " 22  fulfilled-by        37540 non-null   object \n",
      "dtypes: float64(3), int64(2), object(18)\n",
      "memory usage: 22.2+ MB\n",
      "None\n",
      "index                     0\n",
      "Order ID                  0\n",
      "Date                      0\n",
      "Status                    0\n",
      "Fulfilment                0\n",
      "Sales Channel             0\n",
      "ship-service-level        0\n",
      "Style                     0\n",
      "SKU                       0\n",
      "Category                  0\n",
      "Size                      0\n",
      "ASIN                      0\n",
      "Courier Status         5136\n",
      "Qty                       0\n",
      "currency                  0\n",
      "Amount                    0\n",
      "ship-city                31\n",
      "ship-state               38\n",
      "ship-postal-code         38\n",
      "ship-country             38\n",
      "promotion-ids         41705\n",
      "B2B                       7\n",
      "fulfilled-by          83640\n",
      "dtype: int64\n"
     ]
    }
   ],
   "source": [
    "print(sales_data_cleaned.info())\n",
    "print(sales_data_cleaned.isnull().sum())"
   ]
  },
  {
   "cell_type": "markdown",
   "id": "cd1f9d01",
   "metadata": {},
   "source": [
    "### 2. Checking duplicated Values"
   ]
  },
  {
   "cell_type": "code",
   "execution_count": 16,
   "id": "c899482a",
   "metadata": {},
   "outputs": [
    {
     "name": "stdout",
     "output_type": "stream",
     "text": [
      "0         False\n",
      "1         False\n",
      "2         False\n",
      "3         False\n",
      "4         False\n",
      "          ...  \n",
      "128970    False\n",
      "128971    False\n",
      "128972    False\n",
      "128973    False\n",
      "128974    False\n",
      "Length: 128975, dtype: bool\n",
      "0\n"
     ]
    }
   ],
   "source": [
    "print(sales_data.duplicated())\n",
    "print(sales_data.duplicated().sum())"
   ]
  },
  {
   "cell_type": "markdown",
   "id": "92a94ef4",
   "metadata": {},
   "source": [
    "#### we found no dupliacted values "
   ]
  },
  {
   "cell_type": "markdown",
   "id": "ae701541",
   "metadata": {},
   "source": [
    "## Questions to be answered:"
   ]
  },
  {
   "cell_type": "markdown",
   "id": "0c3eeb39",
   "metadata": {},
   "source": [
    "### 1. How many sales have they made with amounts more than 1000\n",
    "### 2. How many sales have they made that belong to category \"Tops\" and have a quantity of 3\n",
    "### 3. What is the total sales based on each category\n",
    "### 4. What is the average amount by category and status\n",
    "### 5. What is the total sales based on each fulfilmet and shipment type"
   ]
  },
  {
   "cell_type": "markdown",
   "id": "7997c7c2",
   "metadata": {},
   "source": [
    "### The sales made with amounts more than 1000"
   ]
  },
  {
   "cell_type": "code",
   "execution_count": 17,
   "id": "8727e44c",
   "metadata": {},
   "outputs": [
    {
     "name": "stdout",
     "output_type": "stream",
     "text": [
      "index                 13332\n",
      "Category              13332\n",
      "B2B                   13332\n",
      "Amount                13332\n",
      "currency              13332\n",
      "Qty                   13332\n",
      "Order ID              13332\n",
      "Size                  13332\n",
      "ASIN                  13332\n",
      "SKU                   13332\n",
      "Style                 13332\n",
      "ship-service-level    13332\n",
      "Sales Channel         13332\n",
      "Fulfilment            13332\n",
      "Status                13332\n",
      "Date                  13332\n",
      "ship-city             13330\n",
      "ship-state            13330\n",
      "ship-postal-code      13330\n",
      "ship-country          13330\n",
      "Courier Status        12948\n",
      "promotion-ids          9303\n",
      "fulfilled-by           3753\n",
      "dtype: int64\n"
     ]
    }
   ],
   "source": [
    "Sales_more_Than_1000 = sales_data_cleaned[sales_data_cleaned['Amount'] > 1000]\n",
    "print(Sales_more_Than_1000.count().sort_values(ascending = False))"
   ]
  },
  {
   "cell_type": "markdown",
   "id": "3587d37e",
   "metadata": {},
   "source": [
    "#### we found that the total orders more than 1000 is 13332 order. 9303 of them have promotion-ids "
   ]
  },
  {
   "cell_type": "markdown",
   "id": "f0604a60",
   "metadata": {},
   "source": [
    "### The sales have they made that belong to category \"Top\" and have a quantity of 3"
   ]
  },
  {
   "cell_type": "code",
   "execution_count": 18,
   "id": "3a304efa",
   "metadata": {},
   "outputs": [
    {
     "name": "stdout",
     "output_type": "stream",
     "text": [
      "index                 3\n",
      "Order ID              3\n",
      "Date                  3\n",
      "Status                3\n",
      "Fulfilment            3\n",
      "Sales Channel         3\n",
      "ship-service-level    3\n",
      "Style                 3\n",
      "SKU                   3\n",
      "Category              3\n",
      "Size                  3\n",
      "ASIN                  3\n",
      "Courier Status        3\n",
      "Qty                   3\n",
      "currency              3\n",
      "Amount                3\n",
      "ship-city             3\n",
      "ship-state            3\n",
      "ship-postal-code      3\n",
      "ship-country          3\n",
      "promotion-ids         3\n",
      "B2B                   3\n",
      "fulfilled-by          2\n",
      "dtype: int64\n"
     ]
    }
   ],
   "source": [
    "Sales_Tops_and_Qty_3 = sales_data_cleaned[(sales_data_cleaned['Category']  == \"Top\") & (sales_data_cleaned['Qty'] == 3)]\n",
    "print(Sales_Tops_and_Qty_3.count())"
   ]
  },
  {
   "cell_type": "markdown",
   "id": "58172e18",
   "metadata": {},
   "source": [
    "#### we found that the total orders are 3."
   ]
  },
  {
   "cell_type": "markdown",
   "id": "0eb89f96",
   "metadata": {},
   "source": [
    "### The total sales based on each category sorted from descending to ascending based on total amount value"
   ]
  },
  {
   "cell_type": "code",
   "execution_count": 27,
   "id": "367419b7",
   "metadata": {},
   "outputs": [
    {
     "name": "stdout",
     "output_type": "stream",
     "text": [
      "  Category       Amount\n",
      "4      Set  39204124.03\n",
      "0   Blouse  21757954.88\n",
      "2    Dress  12131224.11\n",
      "5      Top   5347792.30\n",
      "1   Bottom    150667.98\n",
      "3    Scarf       915.00\n"
     ]
    }
   ],
   "source": [
    "category_total = sales_data_cleaned.groupby('Category', as_index = False)['Amount'].sum()\n",
    "print(category_total.sort_values('Amount', ascending = False))"
   ]
  },
  {
   "cell_type": "markdown",
   "id": "c4de6f3e",
   "metadata": {},
   "source": [
    "### Pie chart for sales distribution by category"
   ]
  },
  {
   "cell_type": "code",
   "execution_count": 28,
   "id": "c137e5ad",
   "metadata": {},
   "outputs": [
    {
     "data": {
      "image/png": "[encoded data removed]",
      "text/plain": [
       "<Figure size 576x576 with 1 Axes>"
      ]
     },
     "metadata": {},
     "output_type": "display_data"
    }
   ],
   "source": [
    "plt.figure(figsize=(8, 8))\n",
    "plt.pie(category_total['Amount'], labels=category_total['Category'], autopct='%1.1f%%', startangle=140, colors=sns.color_palette('pastel'))\n",
    "plt.title('Sales Distribution by Category')\n",
    "plt.show()"
   ]
  },
  {
   "cell_type": "markdown",
   "id": "454e8fe3",
   "metadata": {},
   "source": [
    "### Bar plot for total sales by category"
   ]
  },
  {
   "cell_type": "code",
   "execution_count": 20,
   "id": "38b9b30b",
   "metadata": {},
   "outputs": [
    {
     "data": {
      "image/png": "[encoded data removed]",
      "text/plain": [
       "<Figure size 720x432 with 1 Axes>"
      ]
     },
     "metadata": {
      "needs_background": "light"
     },
     "output_type": "display_data"
    }
   ],
   "source": [
    "plt.figure(figsize=(10, 6))\n",
    "sns.barplot(x='Category', y='Amount', data=category_total, palette='viridis')\n",
    "plt.title('Total Sales by Category')\n",
    "plt.ylabel('Total Amount')\n",
    "plt.xlabel('Category')\n",
    "plt.xticks(rotation=45)\n",
    "plt.show()"
   ]
  },
  {
   "cell_type": "markdown",
   "id": "d89d31b4",
   "metadata": {},
   "source": [
    "### Box plot for distribution of sales amount by category"
   ]
  },
  {
   "cell_type": "code",
   "execution_count": 21,
   "id": "43cd108f",
   "metadata": {},
   "outputs": [
    {
     "data": {
      "image/png": "[encoded data removed]",
      "text/plain": [
       "<Figure size 720x432 with 1 Axes>"
      ]
     },
     "metadata": {
      "needs_background": "light"
     },
     "output_type": "display_data"
    }
   ],
   "source": [
    "plt.figure(figsize=(10, 6))\n",
    "sns.boxplot(x='Category', y='Amount', data=sales_data_cleaned, palette='Set2')\n",
    "plt.title('Distribution of Sales Amount by Category')\n",
    "plt.ylabel('Amount')\n",
    "plt.xlabel('Category')\n",
    "plt.xticks(rotation=45)\n",
    "plt.show()"
   ]
  },
  {
   "cell_type": "markdown",
   "id": "1c6c18d2",
   "metadata": {},
   "source": [
    "### The average sales based on category and fulfilmet type"
   ]
  },
  {
   "cell_type": "code",
   "execution_count": 23,
   "id": "a6b3a275",
   "metadata": {},
   "outputs": [
    {
     "name": "stdout",
     "output_type": "stream",
     "text": [
      "   Category Fulfilment      Amount\n",
      "7       Set     Amazon  838.042180\n",
      "8       Set   Merchant  822.466512\n",
      "4     Dress     Amazon  776.077009\n",
      "5     Dress   Merchant  740.499730\n",
      "9       Top     Amazon  536.449448\n",
      "10      Top   Merchant  493.678577\n",
      "0    Blouse     Amazon  459.493705\n",
      "1    Blouse   Merchant  451.327641\n",
      "2    Bottom     Amazon  365.080508\n",
      "3    Bottom   Merchant  350.592283\n",
      "6     Scarf     Amazon  305.000000\n"
     ]
    }
   ],
   "source": [
    "Fulfilment_avg = sales_data_cleaned.groupby(['Category','Fulfilment'], as_index = False)['Amount'].mean()\n",
    "print(Fulfilment_avg.sort_values('Amount', ascending = False))"
   ]
  },
  {
   "cell_type": "markdown",
   "id": "a98673c5",
   "metadata": {},
   "source": [
    "### Line plot for average sales by fulfilment method"
   ]
  },
  {
   "cell_type": "code",
   "execution_count": 24,
   "id": "5e9b2635",
   "metadata": {},
   "outputs": [
    {
     "data": {
      "image/png": "[encoded data removed]",
      "text/plain": [
       "<Figure size 720x432 with 1 Axes>"
      ]
     },
     "metadata": {
      "needs_background": "light"
     },
     "output_type": "display_data"
    }
   ],
   "source": [
    "plt.figure(figsize=(10, 6))\n",
    "sns.lineplot(x='Fulfilment', y='Amount', hue='Category', data=Fulfilment_avg, marker='o', palette='coolwarm')\n",
    "plt.title('Average Sales by Fulfilment Method')\n",
    "plt.ylabel('Average Amount')\n",
    "plt.xlabel('Fulfilment')\n",
    "plt.xticks(rotation=45)\n",
    "plt.show()"
   ]
  },
  {
   "cell_type": "markdown",
   "id": "6109d545",
   "metadata": {},
   "source": [
    "### The average sales based on category and Status"
   ]
  },
  {
   "cell_type": "code",
   "execution_count": 30,
   "id": "dd6936c2",
   "metadata": {},
   "outputs": [
    {
     "name": "stdout",
     "output_type": "stream",
     "text": [
      "   Category                         Status       Amount\n",
      "23    Dress              Shipped - Damaged  1136.000000\n",
      "38      Set     Shipped - Out for Delivery   908.105263\n",
      "28    Dress    Shipped - Rejected by Buyer   899.000000\n",
      "42      Set  Shipped - Returning to Seller   875.835616\n",
      "39      Set            Shipped - Picked Up   846.322660\n",
      "33      Set                        Pending   837.629482\n",
      "35      Set                        Shipped   836.530584\n",
      "36      Set   Shipped - Delivered to Buyer   827.042759\n",
      "32      Set                      Cancelled   826.970953\n",
      "41      Set   Shipped - Returned to Seller   824.475817\n",
      "34      Set  Pending - Waiting for Pick Up   791.120370\n",
      "30    Dress  Shipped - Returning to Seller   782.642857\n",
      "22    Dress                        Shipped   774.604673\n",
      "21    Dress  Pending - Waiting for Pick Up   767.531646\n",
      "26    Dress     Shipped - Out for Delivery   765.000000\n",
      "19    Dress                      Cancelled   752.765319\n",
      "40      Set    Shipped - Rejected by Buyer   748.666667\n",
      "20    Dress                        Pending   744.818182\n",
      "24    Dress   Shipped - Delivered to Buyer   744.078590\n",
      "29    Dress   Shipped - Returned to Seller   730.042424\n",
      "27    Dress            Shipped - Picked Up   724.206349\n",
      "52      Top  Shipped - Returning to Seller   577.000000\n",
      "8    Blouse    Shipped - Rejected by Buyer   544.500000\n",
      "44      Top                        Pending   543.327273\n",
      "43      Top                      Cancelled   535.254885\n",
      "46      Top                        Shipped   534.187807\n",
      "45      Top  Pending - Waiting for Pick Up   530.210526\n",
      "6    Blouse     Shipped - Out for Delivery   521.800000\n",
      "18   Bottom  Shipped - Returning to Seller   518.000000\n",
      "51      Top   Shipped - Returned to Seller   511.699187\n",
      "48      Top     Shipped - Out for Delivery   503.600000\n",
      "37      Set      Shipped - Lost in Transit   499.500000\n",
      "5    Blouse      Shipped - Lost in Transit   499.000000\n",
      "47      Top   Shipped - Delivered to Buyer   494.132292\n",
      "2    Blouse  Pending - Waiting for Pick Up   484.739726\n",
      "7    Blouse            Shipped - Picked Up   484.421405\n",
      "49      Top            Shipped - Picked Up   479.086957\n",
      "10   Blouse  Shipped - Returning to Seller   475.314286\n",
      "1    Blouse                        Pending   465.624000\n",
      "3    Blouse                        Shipped   459.515805\n",
      "9    Blouse   Shipped - Returned to Seller   458.880330\n",
      "4    Blouse   Shipped - Delivered to Buyer   452.251719\n",
      "0    Blouse                      Cancelled   448.172337\n",
      "50      Top    Shipped - Rejected by Buyer   407.500000\n",
      "11   Bottom                      Cancelled   371.097073\n",
      "14   Bottom                        Shipped   368.262443\n",
      "15   Bottom   Shipped - Delivered to Buyer   349.748201\n",
      "31    Scarf                        Shipped   305.000000\n",
      "13   Bottom  Pending - Waiting for Pick Up   301.000000\n",
      "17   Bottom   Shipped - Returned to Seller   292.200000\n",
      "16   Bottom            Shipped - Picked Up   287.100000\n",
      "12   Bottom                        Pending     0.000000\n",
      "25    Dress      Shipped - Lost in Transit     0.000000\n"
     ]
    }
   ],
   "source": [
    "Status_avg = sales_data_cleaned.groupby(['Category','Status'], as_index = False)['Amount'].mean()\n",
    "print(Status_avg.sort_values('Amount', ascending = False))"
   ]
  },
  {
   "cell_type": "markdown",
   "id": "1f0ba71b",
   "metadata": {},
   "source": [
    "### The total sales based on fulfilment and shipment"
   ]
  },
  {
   "cell_type": "code",
   "execution_count": 31,
   "id": "94fbe7fc",
   "metadata": {},
   "outputs": [
    {
     "name": "stdout",
     "output_type": "stream",
     "text": [
      "  Fulfilment Courier Status      Amount\n",
      "0     Amazon        Shipped  50331934.0\n",
      "2   Merchant        Shipped  20726730.0\n",
      "1     Amazon      Unshipped   3990217.0\n",
      "3   Merchant      Unshipped    353625.0\n"
     ]
    }
   ],
   "source": [
    "Fulfilmet_shipped_total = sales_data_cleaned.groupby(['Fulfilment','Courier Status'], as_index = False)['Amount'].sum()\n",
    "print(Fulfilmet_shipped_total.sort_values('Amount', ascending = False))"
   ]
  },
  {
   "cell_type": "markdown",
   "id": "3bdb468b",
   "metadata": {},
   "source": [
    "### Scatter plot for fulfilment vs courier status sales total"
   ]
  },
  {
   "cell_type": "code",
   "execution_count": 32,
   "id": "147af7db",
   "metadata": {},
   "outputs": [
    {
     "data": {
      "image/png": "[encoded data removed]",
      "text/plain": [
       "<Figure size 720x432 with 1 Axes>"
      ]
     },
     "metadata": {
      "needs_background": "light"
     },
     "output_type": "display_data"
    }
   ],
   "source": [
    "plt.figure(figsize=(10, 6))\n",
    "sns.scatterplot(x='Fulfilment', y='Courier Status', size='Amount', data=Fulfilmet_shipped_total, hue='Amount', palette='magma', sizes=(50, 500))\n",
    "plt.title('Sales Total by Fulfilment and Courier Status')\n",
    "plt.xlabel('Fulfilment')\n",
    "plt.ylabel('Courier Status')\n",
    "plt.xticks(rotation=45)\n",
    "plt.show()"
   ]
  },
  {
   "cell_type": "code",
   "execution_count": 33,
   "id": "50eb59e6",
   "metadata": {},
   "outputs": [
    {
     "name": "stdout",
     "output_type": "stream",
     "text": [
      "Analysis exported to 'sales_analysis_results.xlsx'\n"
     ]
    }
   ],
   "source": [
    "with pd.ExcelWriter('sales_analysis_results.xlsx', engine='xlsxwriter') as writer:\n",
    "    # Export each DataFrame to a separate sheet\n",
    "    Sales_more_Than_1000.to_excel(writer, sheet_name='Sales > 1000', index=False)\n",
    "    Sales_Tops_and_Qty_3.to_excel(writer, sheet_name='Tops Qty = 3', index=False)\n",
    "    category_total.to_excel(writer, sheet_name='Category Totals', index=False)\n",
    "    Fulfilment_avg.to_excel(writer, sheet_name='Fulfilment Avg', index=False)\n",
    "    Status_avg.to_excel(writer, sheet_name='Status Avg', index=False)\n",
    "    Fulfilmet_shipped_total.to_excel(writer, sheet_name='Fulfilment Shipped Total', index=False)\n",
    "\n",
    "print(\"Analysis exported to 'sales_analysis_results.xlsx'\")"
   ]
  }
 ],
 "metadata": {
  "kernelspec": {
   "display_name": "Python 3 (ipykernel)",
   "language": "python",
   "name": "python3"
  },
  "language_info": {
   "codemirror_mode": {
    "name": "ipython",
    "version": 3
   },
   "file_extension": ".py",
   "mimetype": "text/x-python",
   "name": "python",
   "nbconvert_exporter": "python",
   "pygments_lexer": "ipython3",
   "version": "3.9.7"
  }
 },
 "nbformat": 4,
 "nbformat_minor": 5
}
